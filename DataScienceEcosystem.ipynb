{
 "cells": [
  {
   "cell_type": "markdown",
   "id": "618439ba-1931-40a9-8eb0-a67237f3a30c",
   "metadata": {},
   "source": [
    "# Data Science Tools and Ecosystem"
   ]
  },
  {
   "cell_type": "markdown",
   "id": "2eb3e92d-0412-4e18-a343-5d2fc5e3c69f",
   "metadata": {},
   "source": [
    "En este cuaderno, veremos las heramientas y Ecossitema de un Data Science"
   ]
  },
  {
   "cell_type": "markdown",
   "id": "cd611089-b08f-41d0-ad9f-6c1b4ccf509c",
   "metadata": {},
   "source": [
    "__Objectives:__\n",
    "- Poner en practicos los conocimientos de Jupyter\n",
    "- Crear un Cuaderno en Jupiter\n",
    "- Crear listas en Jupiter\n",
    "- Crear calculos con Jupyter"
   ]
  },
  {
   "cell_type": "markdown",
   "id": "abb62257-7441-4f52-931d-160d69be7f6b",
   "metadata": {},
   "source": [
    "__Some of the popular lenguages that Data Scientists use are:__\n"
   ]
  },
  {
   "cell_type": "markdown",
   "id": "9aba5541-3024-4dcc-83b5-b47c1f22ed35",
   "metadata": {},
   "source": [
    "1. Python\n",
    "2. R\n",
    "3. SQL\n",
    "4. Java\n",
    "5. C\n",
    "6. C++ o Scala"
   ]
  },
  {
   "cell_type": "markdown",
   "id": "f98c6514-56af-487c-9903-24a18762d3c7",
   "metadata": {},
   "source": [
    "__Some of the commonly used libreries used by Data Scientists include:__"
   ]
  },
  {
   "cell_type": "markdown",
   "id": "5407fd3b-5e1d-4cb1-92a1-66222dd5d1c4",
   "metadata": {},
   "source": [
    "1. NumPy: Cálculos numéricos eficientes\n",
    "2. Pandas: Manipulación de datos tabulares\n",
    "3. Matplotlib: Creación de gráficos personalizados\n",
    "4. Scikit-Learn: Machine learning sencillo\n",
    "5. TensorFlow: Deep learning potente\n",
    "6. PySpark: Procesamiento de big data"
   ]
  },
  {
   "cell_type": "markdown",
   "id": "b39e5857-7389-466c-ba2c-71e70bc72601",
   "metadata": {},
   "source": [
    "|Data Science Tools|\n",
    "|---|\n",
    "|python|\n",
    "|SQL|\n",
    " |Git|"
   ]
  },
  {
   "cell_type": "markdown",
   "id": "1a62da10-f098-4de0-9c13-b375ca5c4778",
   "metadata": {},
   "source": [
    "### Below are few examples of evaluating arithmetic expressions in Python"
   ]
  },
  {
   "cell_type": "code",
   "execution_count": null,
   "id": "8a63594f-3512-46d6-93bb-7b63099e01a7",
   "metadata": {},
   "outputs": [],
   "source": [
    "#This a simple arithmetic expression to multiply then add integers.."
   ]
  },
  {
   "cell_type": "code",
   "execution_count": 29,
   "id": "e4f9ccb3-b136-44d5-ae2d-2fe8eafffa12",
   "metadata": {},
   "outputs": [
    {
     "data": {
      "text/plain": [
       "17"
      ]
     },
     "execution_count": 29,
     "metadata": {},
     "output_type": "execute_result"
    }
   ],
   "source": [
    "(3*4)+5"
   ]
  },
  {
   "cell_type": "code",
   "execution_count": null,
   "id": "857fd798-89dc-4aa1-ab65-34ca3c277763",
   "metadata": {},
   "outputs": [],
   "source": [
    "#This  will convert 200 minutes to hours by diving by 60"
   ]
  },
  {
   "cell_type": "code",
   "execution_count": 31,
   "id": "3ae2aeab-ea13-440a-b377-a3589063d3bf",
   "metadata": {},
   "outputs": [
    {
     "name": "stdout",
     "output_type": "stream",
     "text": [
      "hours: 3.3333333333333335\n"
     ]
    }
   ],
   "source": [
    "h = 200/60\n",
    "print(\"hours:\", h)"
   ]
  },
  {
   "cell_type": "markdown",
   "id": "c819dc0c-433b-4cf0-9185-9d6ff0a9ffa4",
   "metadata": {},
   "source": [
    "## Author:"
   ]
  },
  {
   "cell_type": "markdown",
   "id": "1ac78b94-a81d-4eae-8b65-663a1bdd451e",
   "metadata": {},
   "source": [
    "Willian David Morales"
   ]
  },
  {
   "cell_type": "code",
   "execution_count": null,
   "id": "99fef0f7-90ad-4f48-add8-2b779ef69604",
   "metadata": {},
   "outputs": [],
   "source": []
  }
 ],
 "metadata": {
  "kernelspec": {
   "display_name": "Python 3 (ipykernel)",
   "language": "python",
   "name": "python3"
  },
  "language_info": {
   "codemirror_mode": {
    "name": "ipython",
    "version": 3
   },
   "file_extension": ".py",
   "mimetype": "text/x-python",
   "name": "python",
   "nbconvert_exporter": "python",
   "pygments_lexer": "ipython3",
   "version": "3.12.4"
  }
 },
 "nbformat": 4,
 "nbformat_minor": 5
}
